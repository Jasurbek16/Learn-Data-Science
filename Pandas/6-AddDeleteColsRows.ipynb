{
 "cells": [
  {
   "cell_type": "code",
   "execution_count": 2,
   "id": "87b931f3",
   "metadata": {},
   "outputs": [
    {
     "data": {
      "text/html": [
       "<div>\n",
       "<style scoped>\n",
       "    .dataframe tbody tr th:only-of-type {\n",
       "        vertical-align: middle;\n",
       "    }\n",
       "\n",
       "    .dataframe tbody tr th {\n",
       "        vertical-align: top;\n",
       "    }\n",
       "\n",
       "    .dataframe thead th {\n",
       "        text-align: right;\n",
       "    }\n",
       "</style>\n",
       "<table border=\"1\" class=\"dataframe\">\n",
       "  <thead>\n",
       "    <tr style=\"text-align: right;\">\n",
       "      <th></th>\n",
       "      <th>first</th>\n",
       "      <th>last</th>\n",
       "      <th>email</th>\n",
       "    </tr>\n",
       "  </thead>\n",
       "  <tbody>\n",
       "    <tr>\n",
       "      <th>0</th>\n",
       "      <td>Jack</td>\n",
       "      <td>Simons</td>\n",
       "      <td>jsim@demo.com</td>\n",
       "    </tr>\n",
       "    <tr>\n",
       "      <th>1</th>\n",
       "      <td>James</td>\n",
       "      <td>Simons</td>\n",
       "      <td>jkab@demo.com</td>\n",
       "    </tr>\n",
       "    <tr>\n",
       "      <th>2</th>\n",
       "      <td>Liam</td>\n",
       "      <td>Payne</td>\n",
       "      <td>lpayne@demo.com</td>\n",
       "    </tr>\n",
       "    <tr>\n",
       "      <th>3</th>\n",
       "      <td>Steve</td>\n",
       "      <td>Rogers</td>\n",
       "      <td>captain@demo.com</td>\n",
       "    </tr>\n",
       "  </tbody>\n",
       "</table>\n",
       "</div>"
      ],
      "text/plain": [
       "   first    last             email\n",
       "0   Jack  Simons     jsim@demo.com\n",
       "1  James  Simons     jkab@demo.com\n",
       "2   Liam   Payne   lpayne@demo.com\n",
       "3  Steve  Rogers  captain@demo.com"
      ]
     },
     "execution_count": 2,
     "metadata": {},
     "output_type": "execute_result"
    }
   ],
   "source": [
    "people = {\n",
    "    \"first\": ['Jack', 'James', 'Liam', 'Steve'],\n",
    "    \"last\": ['Simons', 'Simons', 'Payne', 'Rogers'],\n",
    "    \"email\":['jsim@demo.com', 'jkab@demo.com', \n",
    "             'lpayne@demo.com', 'captain@demo.com']\n",
    "}\n",
    "\n",
    "import pandas as pd\n",
    "\n",
    "df = pd.DataFrame(people)\n",
    "df"
   ]
  },
  {
   "cell_type": "markdown",
   "id": "69f2f958",
   "metadata": {},
   "source": [
    "   # Creating a new column"
   ]
  },
  {
   "cell_type": "code",
   "execution_count": 3,
   "id": "9f94b50c",
   "metadata": {},
   "outputs": [
    {
     "data": {
      "text/plain": [
       "0     Jack Simons\n",
       "1    James Simons\n",
       "2      Liam Payne\n",
       "3    Steve Rogers\n",
       "dtype: object"
      ]
     },
     "execution_count": 3,
     "metadata": {},
     "output_type": "execute_result"
    }
   ],
   "source": [
    "df['first'] + ' ' + df['last']"
   ]
  },
  {
   "cell_type": "code",
   "execution_count": 4,
   "id": "be04927c",
   "metadata": {
    "scrolled": true
   },
   "outputs": [
    {
     "data": {
      "text/html": [
       "<div>\n",
       "<style scoped>\n",
       "    .dataframe tbody tr th:only-of-type {\n",
       "        vertical-align: middle;\n",
       "    }\n",
       "\n",
       "    .dataframe tbody tr th {\n",
       "        vertical-align: top;\n",
       "    }\n",
       "\n",
       "    .dataframe thead th {\n",
       "        text-align: right;\n",
       "    }\n",
       "</style>\n",
       "<table border=\"1\" class=\"dataframe\">\n",
       "  <thead>\n",
       "    <tr style=\"text-align: right;\">\n",
       "      <th></th>\n",
       "      <th>first</th>\n",
       "      <th>last</th>\n",
       "      <th>email</th>\n",
       "      <th>full_name</th>\n",
       "    </tr>\n",
       "  </thead>\n",
       "  <tbody>\n",
       "    <tr>\n",
       "      <th>0</th>\n",
       "      <td>Jack</td>\n",
       "      <td>Simons</td>\n",
       "      <td>jsim@demo.com</td>\n",
       "      <td>Jack Simons</td>\n",
       "    </tr>\n",
       "    <tr>\n",
       "      <th>1</th>\n",
       "      <td>James</td>\n",
       "      <td>Simons</td>\n",
       "      <td>jkab@demo.com</td>\n",
       "      <td>James Simons</td>\n",
       "    </tr>\n",
       "    <tr>\n",
       "      <th>2</th>\n",
       "      <td>Liam</td>\n",
       "      <td>Payne</td>\n",
       "      <td>lpayne@demo.com</td>\n",
       "      <td>Liam Payne</td>\n",
       "    </tr>\n",
       "    <tr>\n",
       "      <th>3</th>\n",
       "      <td>Steve</td>\n",
       "      <td>Rogers</td>\n",
       "      <td>captain@demo.com</td>\n",
       "      <td>Steve Rogers</td>\n",
       "    </tr>\n",
       "  </tbody>\n",
       "</table>\n",
       "</div>"
      ],
      "text/plain": [
       "   first    last             email     full_name\n",
       "0   Jack  Simons     jsim@demo.com   Jack Simons\n",
       "1  James  Simons     jkab@demo.com  James Simons\n",
       "2   Liam   Payne   lpayne@demo.com    Liam Payne\n",
       "3  Steve  Rogers  captain@demo.com  Steve Rogers"
      ]
     },
     "execution_count": 4,
     "metadata": {},
     "output_type": "execute_result"
    }
   ],
   "source": [
    "df['full_name'] = df['first'] + ' ' + df['last']\n",
    "df\n",
    "# we don't use the 'dot' notation coz the python would think that \n",
    "# we are going to assign an attr to the dataframe obj not a col"
   ]
  },
  {
   "cell_type": "markdown",
   "id": "f7c1dd49",
   "metadata": {},
   "source": [
    "# Dropping some columns"
   ]
  },
  {
   "cell_type": "code",
   "execution_count": 5,
   "id": "ce87905a",
   "metadata": {},
   "outputs": [],
   "source": [
    "df.drop(columns=['first', 'last'], inplace=True)"
   ]
  },
  {
   "cell_type": "code",
   "execution_count": 6,
   "id": "0544cbfb",
   "metadata": {},
   "outputs": [
    {
     "data": {
      "text/html": [
       "<div>\n",
       "<style scoped>\n",
       "    .dataframe tbody tr th:only-of-type {\n",
       "        vertical-align: middle;\n",
       "    }\n",
       "\n",
       "    .dataframe tbody tr th {\n",
       "        vertical-align: top;\n",
       "    }\n",
       "\n",
       "    .dataframe thead th {\n",
       "        text-align: right;\n",
       "    }\n",
       "</style>\n",
       "<table border=\"1\" class=\"dataframe\">\n",
       "  <thead>\n",
       "    <tr style=\"text-align: right;\">\n",
       "      <th></th>\n",
       "      <th>email</th>\n",
       "      <th>full_name</th>\n",
       "    </tr>\n",
       "  </thead>\n",
       "  <tbody>\n",
       "    <tr>\n",
       "      <th>0</th>\n",
       "      <td>jsim@demo.com</td>\n",
       "      <td>Jack Simons</td>\n",
       "    </tr>\n",
       "    <tr>\n",
       "      <th>1</th>\n",
       "      <td>jkab@demo.com</td>\n",
       "      <td>James Simons</td>\n",
       "    </tr>\n",
       "    <tr>\n",
       "      <th>2</th>\n",
       "      <td>lpayne@demo.com</td>\n",
       "      <td>Liam Payne</td>\n",
       "    </tr>\n",
       "    <tr>\n",
       "      <th>3</th>\n",
       "      <td>captain@demo.com</td>\n",
       "      <td>Steve Rogers</td>\n",
       "    </tr>\n",
       "  </tbody>\n",
       "</table>\n",
       "</div>"
      ],
      "text/plain": [
       "              email     full_name\n",
       "0     jsim@demo.com   Jack Simons\n",
       "1     jkab@demo.com  James Simons\n",
       "2   lpayne@demo.com    Liam Payne\n",
       "3  captain@demo.com  Steve Rogers"
      ]
     },
     "execution_count": 6,
     "metadata": {},
     "output_type": "execute_result"
    }
   ],
   "source": [
    "df"
   ]
  },
  {
   "cell_type": "markdown",
   "id": "722ed6bc",
   "metadata": {},
   "source": [
    "# Creating columns from the existing column's data"
   ]
  },
  {
   "cell_type": "code",
   "execution_count": 7,
   "id": "097ce45b",
   "metadata": {},
   "outputs": [
    {
     "data": {
      "text/html": [
       "<div>\n",
       "<style scoped>\n",
       "    .dataframe tbody tr th:only-of-type {\n",
       "        vertical-align: middle;\n",
       "    }\n",
       "\n",
       "    .dataframe tbody tr th {\n",
       "        vertical-align: top;\n",
       "    }\n",
       "\n",
       "    .dataframe thead th {\n",
       "        text-align: right;\n",
       "    }\n",
       "</style>\n",
       "<table border=\"1\" class=\"dataframe\">\n",
       "  <thead>\n",
       "    <tr style=\"text-align: right;\">\n",
       "      <th></th>\n",
       "      <th>0</th>\n",
       "      <th>1</th>\n",
       "    </tr>\n",
       "  </thead>\n",
       "  <tbody>\n",
       "    <tr>\n",
       "      <th>0</th>\n",
       "      <td>Jack</td>\n",
       "      <td>Simons</td>\n",
       "    </tr>\n",
       "    <tr>\n",
       "      <th>1</th>\n",
       "      <td>James</td>\n",
       "      <td>Simons</td>\n",
       "    </tr>\n",
       "    <tr>\n",
       "      <th>2</th>\n",
       "      <td>Liam</td>\n",
       "      <td>Payne</td>\n",
       "    </tr>\n",
       "    <tr>\n",
       "      <th>3</th>\n",
       "      <td>Steve</td>\n",
       "      <td>Rogers</td>\n",
       "    </tr>\n",
       "  </tbody>\n",
       "</table>\n",
       "</div>"
      ],
      "text/plain": [
       "       0       1\n",
       "0   Jack  Simons\n",
       "1  James  Simons\n",
       "2   Liam   Payne\n",
       "3  Steve  Rogers"
      ]
     },
     "execution_count": 7,
     "metadata": {},
     "output_type": "execute_result"
    }
   ],
   "source": [
    "df['full_name'].str.split(' ', expand=True)\n",
    "# expand -> expanding a list of items into columns"
   ]
  },
  {
   "cell_type": "code",
   "execution_count": 8,
   "id": "5b9cf0fc",
   "metadata": {},
   "outputs": [
    {
     "data": {
      "text/html": [
       "<div>\n",
       "<style scoped>\n",
       "    .dataframe tbody tr th:only-of-type {\n",
       "        vertical-align: middle;\n",
       "    }\n",
       "\n",
       "    .dataframe tbody tr th {\n",
       "        vertical-align: top;\n",
       "    }\n",
       "\n",
       "    .dataframe thead th {\n",
       "        text-align: right;\n",
       "    }\n",
       "</style>\n",
       "<table border=\"1\" class=\"dataframe\">\n",
       "  <thead>\n",
       "    <tr style=\"text-align: right;\">\n",
       "      <th></th>\n",
       "      <th>email</th>\n",
       "      <th>full_name</th>\n",
       "      <th>first</th>\n",
       "      <th>last</th>\n",
       "    </tr>\n",
       "  </thead>\n",
       "  <tbody>\n",
       "    <tr>\n",
       "      <th>0</th>\n",
       "      <td>jsim@demo.com</td>\n",
       "      <td>Jack Simons</td>\n",
       "      <td>Jack</td>\n",
       "      <td>Simons</td>\n",
       "    </tr>\n",
       "    <tr>\n",
       "      <th>1</th>\n",
       "      <td>jkab@demo.com</td>\n",
       "      <td>James Simons</td>\n",
       "      <td>James</td>\n",
       "      <td>Simons</td>\n",
       "    </tr>\n",
       "    <tr>\n",
       "      <th>2</th>\n",
       "      <td>lpayne@demo.com</td>\n",
       "      <td>Liam Payne</td>\n",
       "      <td>Liam</td>\n",
       "      <td>Payne</td>\n",
       "    </tr>\n",
       "    <tr>\n",
       "      <th>3</th>\n",
       "      <td>captain@demo.com</td>\n",
       "      <td>Steve Rogers</td>\n",
       "      <td>Steve</td>\n",
       "      <td>Rogers</td>\n",
       "    </tr>\n",
       "  </tbody>\n",
       "</table>\n",
       "</div>"
      ],
      "text/plain": [
       "              email     full_name  first    last\n",
       "0     jsim@demo.com   Jack Simons   Jack  Simons\n",
       "1     jkab@demo.com  James Simons  James  Simons\n",
       "2   lpayne@demo.com    Liam Payne   Liam   Payne\n",
       "3  captain@demo.com  Steve Rogers  Steve  Rogers"
      ]
     },
     "execution_count": 8,
     "metadata": {},
     "output_type": "execute_result"
    }
   ],
   "source": [
    "df[['first', 'last']] = df['full_name'].str.split(' ', expand=True)\n",
    "df"
   ]
  },
  {
   "cell_type": "markdown",
   "id": "6213bf50",
   "metadata": {},
   "source": [
    "# Adding a single row of data"
   ]
  },
  {
   "cell_type": "code",
   "execution_count": 9,
   "id": "9e6177e3",
   "metadata": {},
   "outputs": [
    {
     "data": {
      "text/html": [
       "<div>\n",
       "<style scoped>\n",
       "    .dataframe tbody tr th:only-of-type {\n",
       "        vertical-align: middle;\n",
       "    }\n",
       "\n",
       "    .dataframe tbody tr th {\n",
       "        vertical-align: top;\n",
       "    }\n",
       "\n",
       "    .dataframe thead th {\n",
       "        text-align: right;\n",
       "    }\n",
       "</style>\n",
       "<table border=\"1\" class=\"dataframe\">\n",
       "  <thead>\n",
       "    <tr style=\"text-align: right;\">\n",
       "      <th></th>\n",
       "      <th>email</th>\n",
       "      <th>full_name</th>\n",
       "      <th>first</th>\n",
       "      <th>last</th>\n",
       "    </tr>\n",
       "  </thead>\n",
       "  <tbody>\n",
       "    <tr>\n",
       "      <th>0</th>\n",
       "      <td>jsim@demo.com</td>\n",
       "      <td>Jack Simons</td>\n",
       "      <td>Jack</td>\n",
       "      <td>Simons</td>\n",
       "    </tr>\n",
       "    <tr>\n",
       "      <th>1</th>\n",
       "      <td>jkab@demo.com</td>\n",
       "      <td>James Simons</td>\n",
       "      <td>James</td>\n",
       "      <td>Simons</td>\n",
       "    </tr>\n",
       "    <tr>\n",
       "      <th>2</th>\n",
       "      <td>lpayne@demo.com</td>\n",
       "      <td>Liam Payne</td>\n",
       "      <td>Liam</td>\n",
       "      <td>Payne</td>\n",
       "    </tr>\n",
       "    <tr>\n",
       "      <th>3</th>\n",
       "      <td>captain@demo.com</td>\n",
       "      <td>Steve Rogers</td>\n",
       "      <td>Steve</td>\n",
       "      <td>Rogers</td>\n",
       "    </tr>\n",
       "    <tr>\n",
       "      <th>4</th>\n",
       "      <td>NaN</td>\n",
       "      <td>NaN</td>\n",
       "      <td>Sam</td>\n",
       "      <td>NaN</td>\n",
       "    </tr>\n",
       "  </tbody>\n",
       "</table>\n",
       "</div>"
      ],
      "text/plain": [
       "              email     full_name  first    last\n",
       "0     jsim@demo.com   Jack Simons   Jack  Simons\n",
       "1     jkab@demo.com  James Simons  James  Simons\n",
       "2   lpayne@demo.com    Liam Payne   Liam   Payne\n",
       "3  captain@demo.com  Steve Rogers  Steve  Rogers\n",
       "4               NaN           NaN    Sam     NaN"
      ]
     },
     "execution_count": 9,
     "metadata": {},
     "output_type": "execute_result"
    }
   ],
   "source": [
    "df.append({'first':'Sam'}, ignore_index=True)\n",
    "# since there's no index in the specification above, we would get an error\n",
    "# if we don't specify the 'ignore_index=True'<- the index is set automatically"
   ]
  },
  {
   "cell_type": "markdown",
   "id": "17edf964",
   "metadata": {},
   "source": [
    "\n",
    "# Appending a dframe with an existing dframe"
   ]
  },
  {
   "cell_type": "code",
   "execution_count": 10,
   "id": "7f72afd7",
   "metadata": {},
   "outputs": [
    {
     "data": {
      "text/html": [
       "<div>\n",
       "<style scoped>\n",
       "    .dataframe tbody tr th:only-of-type {\n",
       "        vertical-align: middle;\n",
       "    }\n",
       "\n",
       "    .dataframe tbody tr th {\n",
       "        vertical-align: top;\n",
       "    }\n",
       "\n",
       "    .dataframe thead th {\n",
       "        text-align: right;\n",
       "    }\n",
       "</style>\n",
       "<table border=\"1\" class=\"dataframe\">\n",
       "  <thead>\n",
       "    <tr style=\"text-align: right;\">\n",
       "      <th></th>\n",
       "      <th>first</th>\n",
       "      <th>last</th>\n",
       "      <th>email</th>\n",
       "    </tr>\n",
       "  </thead>\n",
       "  <tbody>\n",
       "    <tr>\n",
       "      <th>0</th>\n",
       "      <td>Peter</td>\n",
       "      <td>Parker</td>\n",
       "      <td>p.parker@ave.com</td>\n",
       "    </tr>\n",
       "    <tr>\n",
       "      <th>1</th>\n",
       "      <td>Bruce</td>\n",
       "      <td>Banner</td>\n",
       "      <td>b.banner@ave.com</td>\n",
       "    </tr>\n",
       "  </tbody>\n",
       "</table>\n",
       "</div>"
      ],
      "text/plain": [
       "   first    last             email\n",
       "0  Peter  Parker  p.parker@ave.com\n",
       "1  Bruce  Banner  b.banner@ave.com"
      ]
     },
     "execution_count": 10,
     "metadata": {},
     "output_type": "execute_result"
    }
   ],
   "source": [
    "people = {\n",
    "    \"first\": ['Peter', 'Bruce'],\n",
    "    \"last\": ['Parker', 'Banner'],\n",
    "    \"email\":['p.parker@ave.com', 'b.banner@ave.com']\n",
    "}\n",
    "df2 = pd.DataFrame(people)\n",
    "df2"
   ]
  },
  {
   "cell_type": "code",
   "execution_count": 11,
   "id": "0aebd2fc",
   "metadata": {},
   "outputs": [
    {
     "data": {
      "text/html": [
       "<div>\n",
       "<style scoped>\n",
       "    .dataframe tbody tr th:only-of-type {\n",
       "        vertical-align: middle;\n",
       "    }\n",
       "\n",
       "    .dataframe tbody tr th {\n",
       "        vertical-align: top;\n",
       "    }\n",
       "\n",
       "    .dataframe thead th {\n",
       "        text-align: right;\n",
       "    }\n",
       "</style>\n",
       "<table border=\"1\" class=\"dataframe\">\n",
       "  <thead>\n",
       "    <tr style=\"text-align: right;\">\n",
       "      <th></th>\n",
       "      <th>email</th>\n",
       "      <th>full_name</th>\n",
       "      <th>first</th>\n",
       "      <th>last</th>\n",
       "    </tr>\n",
       "  </thead>\n",
       "  <tbody>\n",
       "    <tr>\n",
       "      <th>0</th>\n",
       "      <td>jsim@demo.com</td>\n",
       "      <td>Jack Simons</td>\n",
       "      <td>Jack</td>\n",
       "      <td>Simons</td>\n",
       "    </tr>\n",
       "    <tr>\n",
       "      <th>1</th>\n",
       "      <td>jkab@demo.com</td>\n",
       "      <td>James Simons</td>\n",
       "      <td>James</td>\n",
       "      <td>Simons</td>\n",
       "    </tr>\n",
       "    <tr>\n",
       "      <th>2</th>\n",
       "      <td>lpayne@demo.com</td>\n",
       "      <td>Liam Payne</td>\n",
       "      <td>Liam</td>\n",
       "      <td>Payne</td>\n",
       "    </tr>\n",
       "    <tr>\n",
       "      <th>3</th>\n",
       "      <td>captain@demo.com</td>\n",
       "      <td>Steve Rogers</td>\n",
       "      <td>Steve</td>\n",
       "      <td>Rogers</td>\n",
       "    </tr>\n",
       "    <tr>\n",
       "      <th>4</th>\n",
       "      <td>p.parker@ave.com</td>\n",
       "      <td>NaN</td>\n",
       "      <td>Peter</td>\n",
       "      <td>Parker</td>\n",
       "    </tr>\n",
       "    <tr>\n",
       "      <th>5</th>\n",
       "      <td>b.banner@ave.com</td>\n",
       "      <td>NaN</td>\n",
       "      <td>Bruce</td>\n",
       "      <td>Banner</td>\n",
       "    </tr>\n",
       "  </tbody>\n",
       "</table>\n",
       "</div>"
      ],
      "text/plain": [
       "              email     full_name  first    last\n",
       "0     jsim@demo.com   Jack Simons   Jack  Simons\n",
       "1     jkab@demo.com  James Simons  James  Simons\n",
       "2   lpayne@demo.com    Liam Payne   Liam   Payne\n",
       "3  captain@demo.com  Steve Rogers  Steve  Rogers\n",
       "4  p.parker@ave.com           NaN  Peter  Parker\n",
       "5  b.banner@ave.com           NaN  Bruce  Banner"
      ]
     },
     "execution_count": 11,
     "metadata": {},
     "output_type": "execute_result"
    }
   ],
   "source": [
    "df = df.append(df2, ignore_index=True)\n",
    "# we could have pass sort=False(<- coz we could get a warning that we did not\n",
    "# pass col.s in the same order btween dframes, sort would avoid that.)\n",
    "# ^ We can ignore that coz sort=False is set by def!\n",
    "df"
   ]
  },
  {
   "cell_type": "markdown",
   "id": "b76de5ac",
   "metadata": {},
   "source": [
    "# Dropping by an index"
   ]
  },
  {
   "cell_type": "code",
   "execution_count": 12,
   "id": "6b3ef964",
   "metadata": {},
   "outputs": [
    {
     "data": {
      "text/html": [
       "<div>\n",
       "<style scoped>\n",
       "    .dataframe tbody tr th:only-of-type {\n",
       "        vertical-align: middle;\n",
       "    }\n",
       "\n",
       "    .dataframe tbody tr th {\n",
       "        vertical-align: top;\n",
       "    }\n",
       "\n",
       "    .dataframe thead th {\n",
       "        text-align: right;\n",
       "    }\n",
       "</style>\n",
       "<table border=\"1\" class=\"dataframe\">\n",
       "  <thead>\n",
       "    <tr style=\"text-align: right;\">\n",
       "      <th></th>\n",
       "      <th>email</th>\n",
       "      <th>full_name</th>\n",
       "      <th>first</th>\n",
       "      <th>last</th>\n",
       "    </tr>\n",
       "  </thead>\n",
       "  <tbody>\n",
       "    <tr>\n",
       "      <th>0</th>\n",
       "      <td>jsim@demo.com</td>\n",
       "      <td>Jack Simons</td>\n",
       "      <td>Jack</td>\n",
       "      <td>Simons</td>\n",
       "    </tr>\n",
       "    <tr>\n",
       "      <th>1</th>\n",
       "      <td>jkab@demo.com</td>\n",
       "      <td>James Simons</td>\n",
       "      <td>James</td>\n",
       "      <td>Simons</td>\n",
       "    </tr>\n",
       "    <tr>\n",
       "      <th>2</th>\n",
       "      <td>lpayne@demo.com</td>\n",
       "      <td>Liam Payne</td>\n",
       "      <td>Liam</td>\n",
       "      <td>Payne</td>\n",
       "    </tr>\n",
       "    <tr>\n",
       "      <th>3</th>\n",
       "      <td>captain@demo.com</td>\n",
       "      <td>Steve Rogers</td>\n",
       "      <td>Steve</td>\n",
       "      <td>Rogers</td>\n",
       "    </tr>\n",
       "    <tr>\n",
       "      <th>4</th>\n",
       "      <td>p.parker@ave.com</td>\n",
       "      <td>NaN</td>\n",
       "      <td>Peter</td>\n",
       "      <td>Parker</td>\n",
       "    </tr>\n",
       "  </tbody>\n",
       "</table>\n",
       "</div>"
      ],
      "text/plain": [
       "              email     full_name  first    last\n",
       "0     jsim@demo.com   Jack Simons   Jack  Simons\n",
       "1     jkab@demo.com  James Simons  James  Simons\n",
       "2   lpayne@demo.com    Liam Payne   Liam   Payne\n",
       "3  captain@demo.com  Steve Rogers  Steve  Rogers\n",
       "4  p.parker@ave.com           NaN  Peter  Parker"
      ]
     },
     "execution_count": 12,
     "metadata": {},
     "output_type": "execute_result"
    }
   ],
   "source": [
    "df.drop(index=5, inplace=True)\n",
    "df"
   ]
  },
  {
   "cell_type": "markdown",
   "id": "7822534f",
   "metadata": {},
   "source": [
    "# Dropping using conditionals"
   ]
  },
  {
   "cell_type": "code",
   "execution_count": 13,
   "id": "e56efea8",
   "metadata": {
    "scrolled": true
   },
   "outputs": [
    {
     "data": {
      "text/html": [
       "<div>\n",
       "<style scoped>\n",
       "    .dataframe tbody tr th:only-of-type {\n",
       "        vertical-align: middle;\n",
       "    }\n",
       "\n",
       "    .dataframe tbody tr th {\n",
       "        vertical-align: top;\n",
       "    }\n",
       "\n",
       "    .dataframe thead th {\n",
       "        text-align: right;\n",
       "    }\n",
       "</style>\n",
       "<table border=\"1\" class=\"dataframe\">\n",
       "  <thead>\n",
       "    <tr style=\"text-align: right;\">\n",
       "      <th></th>\n",
       "      <th>email</th>\n",
       "      <th>full_name</th>\n",
       "      <th>first</th>\n",
       "      <th>last</th>\n",
       "    </tr>\n",
       "  </thead>\n",
       "  <tbody>\n",
       "    <tr>\n",
       "      <th>2</th>\n",
       "      <td>lpayne@demo.com</td>\n",
       "      <td>Liam Payne</td>\n",
       "      <td>Liam</td>\n",
       "      <td>Payne</td>\n",
       "    </tr>\n",
       "    <tr>\n",
       "      <th>3</th>\n",
       "      <td>captain@demo.com</td>\n",
       "      <td>Steve Rogers</td>\n",
       "      <td>Steve</td>\n",
       "      <td>Rogers</td>\n",
       "    </tr>\n",
       "    <tr>\n",
       "      <th>4</th>\n",
       "      <td>p.parker@ave.com</td>\n",
       "      <td>NaN</td>\n",
       "      <td>Peter</td>\n",
       "      <td>Parker</td>\n",
       "    </tr>\n",
       "  </tbody>\n",
       "</table>\n",
       "</div>"
      ],
      "text/plain": [
       "              email     full_name  first    last\n",
       "2   lpayne@demo.com    Liam Payne   Liam   Payne\n",
       "3  captain@demo.com  Steve Rogers  Steve  Rogers\n",
       "4  p.parker@ave.com           NaN  Peter  Parker"
      ]
     },
     "execution_count": 13,
     "metadata": {},
     "output_type": "execute_result"
    }
   ],
   "source": [
    "filt = df['last'] == 'Simons'\n",
    "df.drop(index=df[filt].index)\n",
    "# since we need indexes, we use .index"
   ]
  },
  {
   "cell_type": "markdown",
   "id": "9926c56f",
   "metadata": {},
   "source": [
    "# Dropping by a row"
   ]
  },
  {
   "cell_type": "code",
   "execution_count": 14,
   "id": "a132a206",
   "metadata": {},
   "outputs": [
    {
     "data": {
      "text/html": [
       "<div>\n",
       "<style scoped>\n",
       "    .dataframe tbody tr th:only-of-type {\n",
       "        vertical-align: middle;\n",
       "    }\n",
       "\n",
       "    .dataframe tbody tr th {\n",
       "        vertical-align: top;\n",
       "    }\n",
       "\n",
       "    .dataframe thead th {\n",
       "        text-align: right;\n",
       "    }\n",
       "</style>\n",
       "<table border=\"1\" class=\"dataframe\">\n",
       "  <thead>\n",
       "    <tr style=\"text-align: right;\">\n",
       "      <th></th>\n",
       "      <th>email</th>\n",
       "      <th>full_name</th>\n",
       "      <th>first</th>\n",
       "      <th>last</th>\n",
       "    </tr>\n",
       "  </thead>\n",
       "  <tbody>\n",
       "    <tr>\n",
       "      <th>0</th>\n",
       "      <td>jsim@demo.com</td>\n",
       "      <td>Jack Simons</td>\n",
       "      <td>Jack</td>\n",
       "      <td>Simons</td>\n",
       "    </tr>\n",
       "    <tr>\n",
       "      <th>1</th>\n",
       "      <td>jkab@demo.com</td>\n",
       "      <td>James Simons</td>\n",
       "      <td>James</td>\n",
       "      <td>Simons</td>\n",
       "    </tr>\n",
       "    <tr>\n",
       "      <th>4</th>\n",
       "      <td>p.parker@ave.com</td>\n",
       "      <td>NaN</td>\n",
       "      <td>Peter</td>\n",
       "      <td>Parker</td>\n",
       "    </tr>\n",
       "  </tbody>\n",
       "</table>\n",
       "</div>"
      ],
      "text/plain": [
       "              email     full_name  first    last\n",
       "0     jsim@demo.com   Jack Simons   Jack  Simons\n",
       "1     jkab@demo.com  James Simons  James  Simons\n",
       "4  p.parker@ave.com           NaN  Peter  Parker"
      ]
     },
     "execution_count": 14,
     "metadata": {},
     "output_type": "execute_result"
    }
   ],
   "source": [
    "df.drop([2,3], axis=0, inplace=True)\n",
    "# axis=0 is saying to drop in the row direction. <- is a default\n",
    "df"
   ]
  }
 ],
 "metadata": {
  "kernelspec": {
   "display_name": "Python 3 (ipykernel)",
   "language": "python",
   "name": "python3"
  },
  "language_info": {
   "codemirror_mode": {
    "name": "ipython",
    "version": 3
   },
   "file_extension": ".py",
   "mimetype": "text/x-python",
   "name": "python",
   "nbconvert_exporter": "python",
   "pygments_lexer": "ipython3",
   "version": "3.9.5"
  }
 },
 "nbformat": 4,
 "nbformat_minor": 5
}
